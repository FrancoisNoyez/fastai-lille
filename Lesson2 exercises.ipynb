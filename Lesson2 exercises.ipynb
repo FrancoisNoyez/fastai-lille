{
 "cells": [
  {
   "cell_type": "markdown",
   "metadata": {},
   "source": [
    "# Exercises for lesson 2"
   ]
  },
  {
   "cell_type": "markdown",
   "metadata": {},
   "source": [
    "Note: you should go through those exercises once you've listen to lesson 2 and run the notebook lesson2-download and understood what was in there. This notebook is intended as a test of understanding"
   ]
  },
  {
   "cell_type": "markdown",
   "metadata": {},
   "source": [
    "# Task 1 create/download a new dataset"
   ]
  },
  {
   "cell_type": "code",
   "execution_count": 1,
   "metadata": {},
   "outputs": [],
   "source": [
    "# Here, you can either follow the \"lesson2-dowload\" notebook to create your own dataset, \n",
    "# or find good datasets online \n",
    "\n",
    "# Your goal will be to set up the files correctly into folders \n",
    "# so that you can easily create a ImageDataBunch using the folders you've put in place"
   ]
  },
  {
   "cell_type": "markdown",
   "metadata": {},
   "source": [
    "if you don't have any idea what to classify, you could try:\n",
    "* man vs woman\n",
    "* old vs young\n",
    "* police vs firefighters vehicles\n",
    "* emergency vehicles vs normal vehicles\n",
    "* comics vs anime\n",
    "* recognizing simpsons characters\n",
    "* wine bottles vs beer bottles\n"
   ]
  },
  {
   "cell_type": "code",
   "execution_count": null,
   "metadata": {},
   "outputs": [],
   "source": [
    "# Once you are done, you can present what you've done to everybody else if you want, \n",
    "# or just give your dataset idea to inspire others (if you are so inclined)"
   ]
  }
 ],
 "metadata": {
  "kernelspec": {
   "display_name": "Python 3",
   "language": "python",
   "name": "python3"
  },
  "language_info": {
   "codemirror_mode": {
    "name": "ipython",
    "version": 3
   },
   "file_extension": ".py",
   "mimetype": "text/x-python",
   "name": "python",
   "nbconvert_exporter": "python",
   "pygments_lexer": "ipython3",
   "version": "3.7.4"
  }
 },
 "nbformat": 4,
 "nbformat_minor": 2
}
