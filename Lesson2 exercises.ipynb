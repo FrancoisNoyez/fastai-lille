{
 "cells": [
  {
   "cell_type": "markdown",
   "metadata": {},
   "source": [
    "# Exercises for lesson 2"
   ]
  },
  {
   "cell_type": "markdown",
   "metadata": {},
   "source": [
    "Note: you should go through those exercises once you've listen to lesson 2 and run the notebook lesson2-download and understood what was in there. This notebook is intended as a test of understanding"
   ]
  },
  {
   "cell_type": "markdown",
   "metadata": {},
   "source": [
    "# Task 1 create/download a new dataset"
   ]
  },
  {
   "cell_type": "code",
   "execution_count": 21,
   "metadata": {},
   "outputs": [],
   "source": [
    "# Here, you can either follow the \"lesson2-dowload\" notebook to create your own dataset, \n",
    "# or find good datasets online \n",
    "\n",
    "# Your goal will be to set up the files correctly into folders \n",
    "# so that you can easily create a ImageDataBunch using the folders you've put in place\n",
    "\n",
    "# Note that you can use linux commands in jupyter notebook using the following:"
   ]
  },
  {
   "cell_type": "code",
   "execution_count": 22,
   "metadata": {},
   "outputs": [
    {
     "name": "stdout",
     "output_type": "stream",
     "text": [
      "Lesson1-exercices.ipynb\n",
      "Lesson2 exercises.ipynb\n",
      "README.md\n",
      "train\n"
     ]
    }
   ],
   "source": [
    "%%bash \n",
    "ls"
   ]
  },
  {
   "cell_type": "markdown",
   "metadata": {},
   "source": [
    "if you don't have any idea what to classify, you could try:\n",
    "* man vs woman\n",
    "* old vs young\n",
    "* police vs firefighters vehicles\n",
    "* emergency vehicles vs normal vehicles\n",
    "* comics vs anime\n",
    "* recognizing simpsons characters\n",
    "* wine bottles vs beer bottles\n"
   ]
  },
  {
   "cell_type": "code",
   "execution_count": 23,
   "metadata": {},
   "outputs": [],
   "source": [
    "# make your imports ;)\n",
    "\n"
   ]
  },
  {
   "cell_type": "code",
   "execution_count": 41,
   "metadata": {},
   "outputs": [],
   "source": [
    "# Use python posixpath library, which is imported when you import fastai ;)\n",
    "\n",
    "path =  # Insert the path towards your datasets here:\n",
    "\n",
    "assert type(path) == pathlib.PosixPath, 'you didnt use the pathlib library'\n",
    "assert pathlib.PosixPath('train') in path.ls(), 'you need a train folder'\n",
    "assert pathlib.PosixPath('valid') in path.ls(), 'you need a validation folder'"
   ]
  },
  {
   "cell_type": "code",
   "execution_count": null,
   "metadata": {},
   "outputs": [],
   "source": [
    "# Once you are done, you can present what you've done to everybody else if you want, \n",
    "# or just give your dataset idea to inspire others (if you are so inclined)"
   ]
  },
  {
   "cell_type": "markdown",
   "metadata": {},
   "source": [
    " "
   ]
  },
  {
   "cell_type": "markdown",
   "metadata": {},
   "source": [
    " "
   ]
  },
  {
   "cell_type": "markdown",
   "metadata": {},
   "source": [
    "# Task 2: Stochastic Gradient Descent"
   ]
  },
  {
   "cell_type": "markdown",
   "metadata": {},
   "source": [
    "This task is based on the notebook lesson2-sgd. Make sure you watch lesson 2, run it and understand how it works before you attemp the exercises, otherwise you'll just copy/paste stuff.\n",
    "\n",
    "Most students in FAST.AI Lille are data scientists, so you are probably familiar with SGD already. But it is also an opportunity to get familiar with Pytorch ;)"
   ]
  },
  {
   "cell_type": "code",
   "execution_count": 39,
   "metadata": {},
   "outputs": [],
   "source": [
    "n =  # define here the number of data points you want for your algorithm \n",
    "assert int(n) == n, 'your number should be an integer'\n",
    "assert int(n) >= 2, 'your number should be at least 2'"
   ]
  },
  {
   "cell_type": "markdown",
   "metadata": {},
   "source": [
    "We will create points that have an equation of the type a*x+b\n",
    "\n",
    "define the _parameters_ of your equation in a tensor (if you've listen carefully to the course, you will remember there is a special need here; if not, help yourself with the asserts ;) ) :\n"
   ]
  },
  {
   "cell_type": "code",
   "execution_count": 49,
   "metadata": {},
   "outputs": [],
   "source": [
    "slope =  # slope\n",
    "y_inter =  # y intercept\n",
    "\n",
    "# Put your slope and your y_intercept in a tensor: \n",
    "a = torch.tensor([slope, y_inter]) # \"a\" must be a specific kind of tensor\n",
    "assert a.type() == 'torch.FloatTensor'"
   ]
  },
  {
   "cell_type": "markdown",
   "metadata": {},
   "source": [
    "Now that you have the parameters of your equation, you want a tensor of size n * 2.\n",
    "\n",
    "In this tensor, the first column of numbers will be random numbers uniformly distributed, the second column will be all ones:"
   ]
  },
  {
   "cell_type": "code",
   "execution_count": 58,
   "metadata": {},
   "outputs": [],
   "source": [
    "# Create a tensor full of ones, that has a shape of n rows and 2 columns\n",
    "x = \n",
    "\n",
    "assert x.shape == torch.Size([n, 2])"
   ]
  },
  {
   "cell_type": "code",
   "execution_count": 111,
   "metadata": {},
   "outputs": [],
   "source": [
    "# Assign uniformly distributed numbers to the first column\n",
    "\n",
    "\n",
    "assert x[:,0].sum() > 30\n",
    "assert x[:,0].sum() < 70"
   ]
  },
  {
   "cell_type": "markdown",
   "metadata": {},
   "source": [
    "We are going to perform a matrix-matrix multiplication. In order to work, the number of columns of the first matrix must match the number of rows of the second matrix. That is, the first matrix must be of size A * B, and the second matrix of size B * C. You end up with a matrix of size A * C.\n",
    "\n",
    "If you are not familiar with matrix multiplication, go to http://matrixmultiplication.xyz/ \n",
    "\n",
    "Here, the first matrix will be of size n * 2, and the second of size 2 * 1 (your tensor \"a\")"
   ]
  },
  {
   "cell_type": "code",
   "execution_count": 115,
   "metadata": {},
   "outputs": [
    {
     "data": {
      "text/plain": [
       "(torch.Size([100, 2]), torch.Size([2]))"
      ]
     },
     "execution_count": 115,
     "metadata": {},
     "output_type": "execute_result"
    }
   ],
   "source": [
    "x.shape, a.shape"
   ]
  },
  {
   "cell_type": "code",
   "execution_count": 123,
   "metadata": {},
   "outputs": [],
   "source": [
    "# Perform the matrix multiplication and store it in the variable y:\n",
    "\n",
    "y = \n",
    "assert y.shape == torch.Size([n])"
   ]
  },
  {
   "cell_type": "markdown",
   "metadata": {},
   "source": [
    "In order not to have a perfect regression line, we usually want to add a bit of randomness to our points. I.E they will not be a*x+b, but a*x+b + epsilon, a small irreducible error."
   ]
  },
  {
   "cell_type": "code",
   "execution_count": 126,
   "metadata": {},
   "outputs": [],
   "source": [
    "# Put the cursor after 'ran', and press tab to discover your options to add this epsilon ;)\n",
    "torch.ran\n",
    "\n",
    "y +=  # add your randomness here\n",
    "assert y.shape == torch.Size([n])"
   ]
  },
  {
   "cell_type": "code",
   "execution_count": 127,
   "metadata": {},
   "outputs": [
    {
     "data": {
      "image/png": "[encoded data removed]",
      "text/plain": [
       "<Figure size 432x288 with 1 Axes>"
      ]
     },
     "metadata": {
      "needs_background": "light"
     },
     "output_type": "display_data"
    }
   ],
   "source": [
    "plt.scatter(x[:,0], y);"
   ]
  },
  {
   "cell_type": "markdown",
   "metadata": {},
   "source": [
    "### Define MSE (and (re?)-discover broadcasting) "
   ]
  },
  {
   "cell_type": "markdown",
   "metadata": {},
   "source": [
    "You want to find **parameters** (weights) `a` such that you minimize the *error* between the points and the line `x@a`. Note that here `a` is unknown. For a regression problem the most common *error function* or *loss function* is the **mean squared error**. "
   ]
  },
  {
   "cell_type": "code",
   "execution_count": 140,
   "metadata": {},
   "outputs": [
    {
     "data": {
      "text/plain": [
       "tensor([[1., 1.],\n",
       "        [1., 1.],\n",
       "        [1., 1.],\n",
       "        [1., 1.],\n",
       "        [1., 1.]])"
      ]
     },
     "execution_count": 140,
     "metadata": {},
     "output_type": "execute_result"
    }
   ],
   "source": [
    "# Let's say you have a tensor:\n",
    "torch.ones(5,2)"
   ]
  },
  {
   "cell_type": "code",
   "execution_count": 144,
   "metadata": {},
   "outputs": [
    {
     "data": {
      "text/plain": [
       "tensor([[2., 2.],\n",
       "        [2., 2.],\n",
       "        [2., 2.],\n",
       "        [2., 2.],\n",
       "        [2., 2.]])"
      ]
     },
     "execution_count": 144,
     "metadata": {},
     "output_type": "execute_result"
    }
   ],
   "source": [
    "# if you have a second tensor of same dimensions, you can add the two.\n",
    "# what happens is that each value of the first tensor will be added to its corresponding value in the second tensor:\n",
    "torch.ones(5,2) + torch.ones(5,2)"
   ]
  },
  {
   "cell_type": "code",
   "execution_count": 146,
   "metadata": {},
   "outputs": [
    {
     "data": {
      "text/plain": [
       "tensor([[4., 4.],\n",
       "        [4., 4.],\n",
       "        [4., 4.],\n",
       "        [4., 4.],\n",
       "        [4., 4.]])"
      ]
     },
     "execution_count": 146,
     "metadata": {},
     "output_type": "execute_result"
    }
   ],
   "source": [
    "# But you can also do that: \n",
    "torch.ones(5 ,2) + 3"
   ]
  },
  {
   "cell_type": "markdown",
   "metadata": {},
   "source": [
    "It's called broadcasting, what happens is that since there is only one value, pytorch (just like numpy would do) will pretend it has a tensor of corresponding dimensions filled with 3's"
   ]
  },
  {
   "cell_type": "code",
   "execution_count": 150,
   "metadata": {},
   "outputs": [
    {
     "data": {
      "text/plain": [
       "tensor([[1., 5.],\n",
       "        [1., 5.],\n",
       "        [1., 5.],\n",
       "        [1., 5.],\n",
       "        [1., 5.]])"
      ]
     },
     "execution_count": 150,
     "metadata": {},
     "output_type": "execute_result"
    }
   ],
   "source": [
    "# or that:\n",
    "torch.ones(5 ,2) + torch.tensor([0,4])"
   ]
  },
  {
   "cell_type": "code",
   "execution_count": 154,
   "metadata": {},
   "outputs": [
    {
     "data": {
      "text/plain": [
       "tensor([[1., 4.],\n",
       "        [1., 4.],\n",
       "        [1., 4.],\n",
       "        [1., 4.],\n",
       "        [1., 4.]])"
      ]
     },
     "execution_count": 154,
     "metadata": {},
     "output_type": "execute_result"
    }
   ],
   "source": [
    "# or that:\n",
    "(torch.ones(5,2) + torch.tensor([0,1])) ** 2\n",
    "\n",
    "# you can use that for the exercise ;) "
   ]
  },
  {
   "cell_type": "code",
   "execution_count": 137,
   "metadata": {},
   "outputs": [],
   "source": [
    "def mse(y_preds, y_true):\n",
    "    # Define a mean squared error function \n",
    "    \n",
    "    return\n",
    "\n",
    "\n",
    "my_actual = torch.tensor([3., 3, 3])\n",
    "my_preds = torch.tensor([1.,2 ,5 ])\n",
    "assert mse(my_preds, my_actual) == tensor(3.)"
   ]
  },
  {
   "cell_type": "markdown",
   "metadata": {},
   "source": [
    " "
   ]
  },
  {
   "cell_type": "markdown",
   "metadata": {},
   "source": [
    "### Find the parameters"
   ]
  },
  {
   "cell_type": "markdown",
   "metadata": {},
   "source": [
    "Create a dummy prediction tensor `a = (-2.0,2.0)`"
   ]
  },
  {
   "cell_type": "code",
   "execution_count": 175,
   "metadata": {},
   "outputs": [],
   "source": [
    "a = tensor(-2., 2)"
   ]
  },
  {
   "cell_type": "markdown",
   "metadata": {},
   "source": [
    "then we can compute `y_hat` which is our *prediction* "
   ]
  },
  {
   "cell_type": "code",
   "execution_count": 176,
   "metadata": {},
   "outputs": [],
   "source": [
    "y_hat = \n",
    "assert y_hat.shape == torch.Size([n])"
   ]
  },
  {
   "cell_type": "markdown",
   "metadata": {},
   "source": [
    "and then compute our error."
   ]
  },
  {
   "cell_type": "code",
   "execution_count": 171,
   "metadata": {},
   "outputs": [],
   "source": [
    "from fastai.metrics import mean_squared_error\n",
    "# use your function mse to compute the error\n",
    "error = \n",
    "\n",
    "\n",
    "assert type(error) == torch.Tensor\n",
    "assert np.round(error, 4) == np.round(mean_squared_error(y_hat, y), 4)"
   ]
  },
  {
   "cell_type": "code",
   "execution_count": 177,
   "metadata": {},
   "outputs": [
    {
     "data": {
      "image/png": "[encoded data removed]",
      "text/plain": [
       "<Figure size 432x288 with 1 Axes>"
      ]
     },
     "metadata": {
      "needs_background": "light"
     },
     "output_type": "display_data"
    }
   ],
   "source": [
    "plt.scatter(x[:,0],y)\n",
    "plt.scatter(x[:,0],y_hat);"
   ]
  },
  {
   "cell_type": "markdown",
   "metadata": {},
   "source": [
    "So far we have specified the *model* (linear regression) and the *evaluation criteria* (or *loss function*). Now we need to handle *optimization*; that is, how do we find the best values for `a`? How do we find the best *fitting* linear regression."
   ]
  },
  {
   "cell_type": "markdown",
   "metadata": {},
   "source": [
    "#### Gradient Descent"
   ]
  },
  {
   "cell_type": "markdown",
   "metadata": {},
   "source": [
    "BAD NEWS ! in order to find the best fitting line, you need to use calculus...\n",
    "\n",
    "GOOD NEWS ! pytorch handles all the calculus for you\n",
    "\n",
    "when you calculate a loss with pytorch, it remembers what calculation you made and can update the parameters"
   ]
  },
  {
   "cell_type": "markdown",
   "metadata": {},
   "source": [
    "In pytorch, your model will be stored in tensors, and your data will be stored in tensors. How do we tell pytorch which tensors it has to update with the loss ?\n",
    "\n",
    "We tell pytorch that a specific tensor is a Parameter: "
   ]
  },
  {
   "cell_type": "code",
   "execution_count": 179,
   "metadata": {},
   "outputs": [
    {
     "data": {
      "text/plain": [
       "tensor([-2.,  2.])"
      ]
     },
     "execution_count": 179,
     "metadata": {},
     "output_type": "execute_result"
    }
   ],
   "source": [
    "a"
   ]
  },
  {
   "cell_type": "markdown",
   "metadata": {},
   "source": [
    "Right now, a is a regular tensor"
   ]
  },
  {
   "cell_type": "code",
   "execution_count": null,
   "metadata": {},
   "outputs": [
    {
     "data": {
      "text/plain": [
       "Parameter containing:\n",
       "tensor([-1.,  1.], requires_grad=True)"
      ]
     },
     "execution_count": null,
     "metadata": {},
     "output_type": "execute_result"
    }
   ],
   "source": [
    "a = nn.Parameter(a); a"
   ]
  },
  {
   "cell_type": "markdown",
   "metadata": {},
   "source": [
    "Now it's a parameter. Note the \"requires_grad=True\". It means this tensor will get its 'share' of the loss during _grad_ient descent"
   ]
  },
  {
   "cell_type": "code",
   "execution_count": null,
   "metadata": {},
   "outputs": [],
   "source": [
    "# make your prediction:\n",
    "y_hat = \n",
    "\n",
    "# calculate your loss:\n",
    "loss = \n",
    "\n",
    "# \"backpropagate\" the loss to your parameters:\n",
    "loss.\n",
    "\n",
    "# now you have the gradients for all parameters in a\n",
    "print(a.grad)\n",
    "\n",
    "# subtract those gradient from the original parameters\n",
    "with torch.no_grad():\n",
    "    \n",
    "    # and reset the gradients to zero (otherwise they will accumulate... more on that later)"
   ]
  },
  {
   "cell_type": "markdown",
   "metadata": {},
   "source": [
    "Now we have all the elements of our training loop. Do the same process a lot of time:"
   ]
  },
  {
   "cell_type": "code",
   "execution_count": null,
   "metadata": {},
   "outputs": [],
   "source": [
    "# set a number of epochs:\n",
    "EPOCHS = \n",
    "\n",
    "# write a for loop that will replicate the steps in the above cell\n",
    "# for the number of epochs you have set:\n"
   ]
  },
  {
   "cell_type": "code",
   "execution_count": null,
   "metadata": {},
   "outputs": [],
   "source": []
  },
  {
   "cell_type": "code",
   "execution_count": null,
   "metadata": {},
   "outputs": [],
   "source": [
    "# And check your results ;) \n",
    "plt.scatter(x[:,0],y)\n",
    "plt.scatter(x[:,0],x@a);"
   ]
  },
  {
   "cell_type": "markdown",
   "metadata": {},
   "source": [
    "Don't run this cell:"
   ]
  },
  {
   "cell_type": "code",
   "execution_count": null,
   "metadata": {},
   "outputs": [
    {
     "data": {
      "image/png": "[encoded data removed]",
      "text/plain": [
       "<Figure size 432x288 with 1 Axes>"
      ]
     },
     "metadata": {
      "needs_background": "light"
     },
     "output_type": "display_data"
    }
   ],
   "source": [
    "# Your scatterplot should look like that:\n",
    "plt.scatter(x[:,0],y)\n",
    "plt.scatter(x[:,0],x@a);"
   ]
  },
  {
   "cell_type": "markdown",
   "metadata": {},
   "source": [
    "# An awesome ressource to go further in your Pytorch understanding:\n",
    "https://towardsdatascience.com/understanding-pytorch-with-an-example-a-step-by-step-tutorial-81fc5f8c4e8e#2e24"
   ]
  },
  {
   "cell_type": "code",
   "execution_count": null,
   "metadata": {},
   "outputs": [],
   "source": []
  }
 ],
 "metadata": {
  "kernelspec": {
   "display_name": "Python 3",
   "language": "python",
   "name": "python3"
  },
  "language_info": {
   "codemirror_mode": {
    "name": "ipython",
    "version": 3
   },
   "file_extension": ".py",
   "mimetype": "text/x-python",
   "name": "python",
   "nbconvert_exporter": "python",
   "pygments_lexer": "ipython3",
   "version": "3.7.4"
  }
 },
 "nbformat": 4,
 "nbformat_minor": 2
}
