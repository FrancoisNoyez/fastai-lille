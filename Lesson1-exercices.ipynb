{
 "cells": [
  {
   "cell_type": "markdown",
   "metadata": {},
   "source": [
    "# Exercises for lesson 1"
   ]
  },
  {
   "cell_type": "markdown",
   "metadata": {},
   "source": [
    "Note: you should go through those exercises once you've listen to lesson 1 and run the notebook lesson1-pets and understood what was in there. This notebook is intended as a test of understanding"
   ]
  },
  {
   "cell_type": "markdown",
   "metadata": {},
   "source": [
    "# Task one: find online what those are for"
   ]
  },
  {
   "cell_type": "code",
   "execution_count": 1,
   "metadata": {},
   "outputs": [],
   "source": [
    "%reload_ext autoreload\n",
    "%autoreload 2\n",
    "%matplotlib inline"
   ]
  },
  {
   "cell_type": "markdown",
   "metadata": {},
   "source": [
    "# Imports"
   ]
  },
  {
   "cell_type": "code",
   "execution_count": 2,
   "metadata": {},
   "outputs": [],
   "source": [
    "from fastai.vision import *\n",
    "from fastai.metrics import error_rate\n",
    "import warnings\n",
    "warnings.filterwarnings('ignore')"
   ]
  },
  {
   "cell_type": "code",
   "execution_count": 3,
   "metadata": {},
   "outputs": [],
   "source": [
    "bs = 64\n",
    "# bs = 16   # uncomment this line if you run out of memory even after clicking Kernel->Restart"
   ]
  },
  {
   "cell_type": "code",
   "execution_count": null,
   "metadata": {},
   "outputs": [],
   "source": []
  },
  {
   "cell_type": "markdown",
   "metadata": {},
   "source": [
    "# Difference between a function and a method"
   ]
  },
  {
   "cell_type": "markdown",
   "metadata": {},
   "source": [
    "I'll use the term \"method\" a lot. So for those who don't know, I'll quickly introduce what it is."
   ]
  },
  {
   "cell_type": "code",
   "execution_count": 62,
   "metadata": {},
   "outputs": [
    {
     "data": {
      "text/plain": [
       "2.5"
      ]
     },
     "execution_count": 62,
     "metadata": {},
     "output_type": "execute_result"
    }
   ],
   "source": [
    "# A function:\n",
    "def my_mean(x):\n",
    "    return sum(x) / len(x)\n",
    "\n",
    "my_mean([1,2,3,4])"
   ]
  },
  {
   "cell_type": "code",
   "execution_count": 56,
   "metadata": {},
   "outputs": [],
   "source": [
    "# A method is basically a function that you call on a specific object"
   ]
  },
  {
   "cell_type": "code",
   "execution_count": 61,
   "metadata": {},
   "outputs": [
    {
     "data": {
      "text/plain": [
       "2.5"
      ]
     },
     "execution_count": 61,
     "metadata": {},
     "output_type": "execute_result"
    }
   ],
   "source": [
    "my_array = np.array([1,2,3,4])\n",
    "# .mean() is a method you can use on a np.array:\n",
    "my_array.mean()"
   ]
  },
  {
   "cell_type": "code",
   "execution_count": 63,
   "metadata": {},
   "outputs": [],
   "source": [
    "# for those familiar with pandas dataframes, you use methods all the time already, as in:\n",
    "# my_dataframe.head()"
   ]
  },
  {
   "cell_type": "markdown",
   "metadata": {},
   "source": [
    "# Task two: find the dogs vs cats dataset"
   ]
  },
  {
   "cell_type": "markdown",
   "metadata": {},
   "source": [
    "If you analize carefully the lesson1-pets notebook, you'll find the data is downloaded using a function called untar_data().\n",
    "\n",
    "You must pass an URL to untar_data. Find the variable in which all the URLs that fastai is storing for you are stored."
   ]
  },
  {
   "cell_type": "code",
   "execution_count": 18,
   "metadata": {},
   "outputs": [],
   "source": [
    "variable_where_there_are_urls =  #insert here the variable\n",
    "assert variable_where_there_are_urls.ADULT_SAMPLE == 'http://files.fast.ai/data/examples/adult_sample'"
   ]
  },
  {
   "cell_type": "markdown",
   "metadata": {},
   "source": [
    "Now that you have the variable, you can use the tab trick to find what there is inside it:"
   ]
  },
  {
   "cell_type": "code",
   "execution_count": null,
   "metadata": {},
   "outputs": [],
   "source": [
    "# put the cursor after the dot, press tab. You should see a list of options appearing\n",
    "variable_where_there_are_urls."
   ]
  },
  {
   "cell_type": "code",
   "execution_count": null,
   "metadata": {},
   "outputs": [],
   "source": []
  },
  {
   "cell_type": "code",
   "execution_count": 20,
   "metadata": {},
   "outputs": [],
   "source": [
    "# One of the items of the list contains a dataset of images of dogs and cats. Find out which one it is.\n",
    "# Hint: the title might be misleading\n",
    "\n",
    "cats_and_dogs = # enter variable_where_there_are_urls._______ your solution here\n",
    "assert cats_and_dogs == 'http://files.fast.ai/data/examples/dogscats'"
   ]
  },
  {
   "cell_type": "markdown",
   "metadata": {},
   "source": [
    "The following cell will create a folder name cats_and_dogs to store the images. Un-comment it and run it once.\n",
    "Tip: to uncomment a whole cell in jupyter notebook, put your cursor in this cell, press CTRL+A to select everything, then CTRL + / to comment/uncomment"
   ]
  },
  {
   "cell_type": "code",
   "execution_count": 4,
   "metadata": {},
   "outputs": [
    {
     "data": {
      "text/plain": [
       "PosixPath('/home/benjamin/.fastai/data/dogscats')"
      ]
     },
     "execution_count": 4,
     "metadata": {},
     "output_type": "execute_result"
    }
   ],
   "source": [
    "# Use untar_data to download and unzip the files\n",
    "path =   # modify this\n",
    "assert path.name == Path('dogscats')\n",
    "path"
   ]
  },
  {
   "cell_type": "markdown",
   "metadata": {},
   "source": [
    "# Explore the path\n",
    "Use \"path. \" + tab to find all the things you can use with a path. Find one that lists all the items in that directory"
   ]
  },
  {
   "cell_type": "code",
   "execution_count": 13,
   "metadata": {
    "scrolled": true
   },
   "outputs": [
    {
     "data": {
      "text/plain": [
       "<bound method Path.chmod of PosixPath('/home/benjamin/.fastai/data/dogscats')>"
      ]
     },
     "execution_count": 13,
     "metadata": {},
     "output_type": "execute_result"
    }
   ],
   "source": [
    "path"
   ]
  },
  {
   "cell_type": "code",
   "execution_count": 16,
   "metadata": {},
   "outputs": [
    {
     "data": {
      "text/plain": [
       "PosixPath('/home/benjamin/.fastai/data/dogscats/train')"
      ]
     },
     "execution_count": 16,
     "metadata": {},
     "output_type": "execute_result"
    }
   ],
   "source": [
    "path_train = path/'train'\n",
    "path_train"
   ]
  },
  {
   "cell_type": "markdown",
   "metadata": {},
   "source": [
    "# Create ImageDataBunch\n",
    "in the other notebook, the ImageDataBunch is created with ImageDataBunch.from_re, because the name of the classes are in the file names (so we use a regex to extract them): "
   ]
  },
  {
   "cell_type": "code",
   "execution_count": 36,
   "metadata": {},
   "outputs": [
    {
     "name": "stdout",
     "output_type": "stream",
     "text": [
      "Help on method from_name_re in module fastai.vision.data:\n",
      "\n",
      "from_name_re(path: Union[pathlib.Path, str], fnames: Collection[pathlib.Path], pat: str, valid_pct: float = 0.2, **kwargs) method of builtins.type instance\n",
      "    Create from list of `fnames` in `path` with re expression `pat`.\n",
      "\n"
     ]
    }
   ],
   "source": [
    "help(ImageDataBunch.from_name_re)"
   ]
  },
  {
   "cell_type": "markdown",
   "metadata": {},
   "source": [
    "Here, the two classes are separated in folders. Create an ImageDataBunch using this separation in folders.\n",
    "\n",
    "Hint: you can pass a train, a validation and a test set. The test set is name differently than what is expected by the method. Use path.ls() to figure out how the test set is named and pass that to your func:"
   ]
  },
  {
   "cell_type": "code",
   "execution_count": 46,
   "metadata": {},
   "outputs": [],
   "source": [
    "data = ImageDataBunch.from_folder(path, ds_tfms=get_transforms(), size=224, bs=bs,\n",
    "                                  test='test1').normalize(imagenet_stats) # modify this"
   ]
  },
  {
   "cell_type": "code",
   "execution_count": null,
   "metadata": {},
   "outputs": [],
   "source": [
    "data"
   ]
  },
  {
   "cell_type": "code",
   "execution_count": 49,
   "metadata": {},
   "outputs": [],
   "source": [
    "# Once you've created your databunch, you can (as always) use data. + tab to figure out what the following asserts \n",
    "# are doing \n",
    "assert len(data.train_ds) == 23000\n",
    "assert len(data.valid_ds) == 2000\n",
    "assert type(data.test_ds[0]) == tuple\n",
    "assert data.test_ds[0][0].shape == (3, 224, 224)"
   ]
  },
  {
   "cell_type": "code",
   "execution_count": 65,
   "metadata": {},
   "outputs": [],
   "source": [
    "# show a batch of data with 3 rows and 3 columns\n"
   ]
  },
  {
   "cell_type": "code",
   "execution_count": 70,
   "metadata": {},
   "outputs": [],
   "source": [
    "assert data.classes == ['cats', 'dogs']\n",
    "assert data.c == 2"
   ]
  },
  {
   "cell_type": "markdown",
   "metadata": {},
   "source": [
    "# Training a model\n",
    "create a learner with your databunch, and Resnet18 model "
   ]
  },
  {
   "cell_type": "code",
   "execution_count": 76,
   "metadata": {},
   "outputs": [
    {
     "name": "stderr",
     "output_type": "stream",
     "text": [
      "Downloading: \"https://download.pytorch.org/models/resnet18-5c106cde.pth\" to /home/benjamin/.cache/torch/checkpoints/resnet18-5c106cde.pth\n",
      "100%|██████████| 44.7M/44.7M [00:25<00:00, 1.83MB/s]\n"
     ]
    }
   ],
   "source": [
    "learn = cnn_learner(data, models.resnet18, metrics=error_rate)"
   ]
  },
  {
   "cell_type": "code",
   "execution_count": 80,
   "metadata": {},
   "outputs": [],
   "source": [
    "# if you look at learn.data, you'll see your databunch as been passed as such"
   ]
  },
  {
   "cell_type": "code",
   "execution_count": 83,
   "metadata": {},
   "outputs": [],
   "source": [
    "# type the following and press shift+enter to have a look;\n",
    "# learn\n",
    "# learn.data\n",
    "# learn.model\n",
    "# learn.metrics"
   ]
  },
  {
   "cell_type": "markdown",
   "metadata": {},
   "source": [
    "# Find a good enough learning rate"
   ]
  },
  {
   "cell_type": "code",
   "execution_count": null,
   "metadata": {},
   "outputs": [],
   "source": []
  },
  {
   "cell_type": "markdown",
   "metadata": {},
   "source": [
    "# now train your model for 3 epochs\n"
   ]
  },
  {
   "cell_type": "code",
   "execution_count": null,
   "metadata": {},
   "outputs": [],
   "source": []
  },
  {
   "cell_type": "markdown",
   "metadata": {},
   "source": [
    "# and save it"
   ]
  },
  {
   "cell_type": "code",
   "execution_count": null,
   "metadata": {},
   "outputs": [],
   "source": []
  },
  {
   "cell_type": "code",
   "execution_count": 115,
   "metadata": {},
   "outputs": [],
   "source": [
    "# use path.ls() Now a \"models\" directory has appeared ! This is where your model is physically stored\n",
    "# you can change it by setting learn.model_dir = \"put_your_path_here\" is you want ;) "
   ]
  },
  {
   "cell_type": "markdown",
   "metadata": {},
   "source": [
    "# Interpretation"
   ]
  },
  {
   "cell_type": "code",
   "execution_count": 87,
   "metadata": {},
   "outputs": [
    {
     "name": "stdout",
     "output_type": "stream",
     "text": [
      "Help on method _cl_int_from_learner in module fastai.vision.learner:\n",
      "\n",
      "_cl_int_from_learner(learn: fastai.basic_train.Learner, ds_type: fastai.basic_data.DatasetType = <DatasetType.Valid: 2>, activ: torch.nn.modules.module.Module = None, tta=False) method of builtins.type instance\n",
      "    Create an instance of `ClassificationInterpretation`. `tta` indicates if we want to use Test Time Augmentation.\n",
      "\n"
     ]
    }
   ],
   "source": [
    "# Create a classification Interpretation object\n",
    "help(ClassificationInterpretation.from_learner)"
   ]
  },
  {
   "cell_type": "code",
   "execution_count": null,
   "metadata": {},
   "outputs": [],
   "source": []
  },
  {
   "cell_type": "code",
   "execution_count": 88,
   "metadata": {},
   "outputs": [],
   "source": [
    "# Plot the confusion matrix and the most confused images (the ones where the loss was the highest)\n",
    "# Hint: the name of the method is plot top losses because if you predict that it's a cat with 100% certainty \n",
    "# and then it turns out it's a dog, then your model will get a big penalty"
   ]
  },
  {
   "cell_type": "markdown",
   "metadata": {},
   "source": [
    "# Repeat\n",
    "<h1><a href='https://www.youtube.com/watch?v=4CTDdxfSXF0'>\"Train lot of models\"</a></h1>\n",
    "\n",
    "you can repeat the above steps with slight differences. Try changing the batch size, and the size of the pictures you pass to the ImageDataBunch object. Try changing the learning rate. You can also change the dataset! Several of them are available to download through the fastai library, but there are others online.\n",
    "\n",
    "Create a new notebook and repeat the process without the hints and help provided here.\n"
   ]
  },
  {
   "cell_type": "code",
   "execution_count": null,
   "metadata": {},
   "outputs": [],
   "source": []
  }
 ],
 "metadata": {
  "kernelspec": {
   "display_name": "Python 3",
   "language": "python",
   "name": "python3"
  },
  "language_info": {
   "codemirror_mode": {
    "name": "ipython",
    "version": 3
   },
   "file_extension": ".py",
   "mimetype": "text/x-python",
   "name": "python",
   "nbconvert_exporter": "python",
   "pygments_lexer": "ipython3",
   "version": "3.7.4"
  }
 },
 "nbformat": 4,
 "nbformat_minor": 2
}
